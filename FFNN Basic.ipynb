{
 "cells": [
  {
   "cell_type": "markdown",
   "id": "483183e2",
   "metadata": {},
   "source": [
    "# FFNN(Feed forward neural network)\n"
   ]
  },
  {
   "cell_type": "markdown",
   "id": "e319bcd9",
   "metadata": {},
   "source": [
    "### Defining the network architecture"
   ]
  },
  {
   "cell_type": "code",
   "execution_count": 31,
   "id": "1e8e4863",
   "metadata": {},
   "outputs": [],
   "source": [
    "import numpy as np\n",
    "\n",
    "# Define the network architecture\n",
    "input_size = 3  # Number of input features\n",
    "hidden1_size = 4  # Number of neurons in the first hidden layer\n",
    "hidden2_size = 3  # Number of neurons in the second hidden layer\n",
    "output_size = 2  # Number of neurons in the output layer"
   ]
  },
  {
   "cell_type": "markdown",
   "id": "bafd974e",
   "metadata": {},
   "source": [
    "### Initializing random weights and biases for the layers"
   ]
  },
  {
   "cell_type": "code",
   "execution_count": 32,
   "id": "a8c4174e",
   "metadata": {},
   "outputs": [],
   "source": [
    "# Initialize random weights and biases for the layers\n",
    "np.random.seed(0)  # For reproducibility"
   ]
  },
  {
   "cell_type": "code",
   "execution_count": 33,
   "id": "39c6bcd7",
   "metadata": {},
   "outputs": [],
   "source": [
    "# Initialize weights and biases for the first hidden layer\n",
    "hidden1_weights = np.random.randn(input_size, hidden1_size)\n",
    "hidden1_biases = np.random.randn(hidden1_size)\n",
    "\n",
    "# Initialize weights and biases for the second hidden layer\n",
    "hidden2_weights = np.random.randn(hidden1_size, hidden2_size)\n",
    "hidden2_biases = np.random.randn(hidden2_size)\n",
    "\n",
    "# Initialize weights and biases for the output layer\n",
    "output_weights = np.random.randn(hidden2_size, output_size)\n",
    "output_biases = np.random.randn(output_size)"
   ]
  },
  {
   "cell_type": "markdown",
   "id": "5287bd9e",
   "metadata": {},
   "source": [
    "### Output"
   ]
  },
  {
   "cell_type": "code",
   "execution_count": 34,
   "id": "b568bcac",
   "metadata": {},
   "outputs": [
    {
     "name": "stdout",
     "output_type": "stream",
     "text": [
      "First Hidden Layer Weights:\n",
      "[[ 1.76405235  0.40015721  0.97873798  2.2408932 ]\n",
      " [ 1.86755799 -0.97727788  0.95008842 -0.15135721]\n",
      " [-0.10321885  0.4105985   0.14404357  1.45427351]]\n",
      "First Hidden Layer Biases:\n",
      "[0.76103773 0.12167502 0.44386323 0.33367433]\n",
      "Second Hidden Layer Weights:\n",
      "[[ 1.49407907 -0.20515826  0.3130677 ]\n",
      " [-0.85409574 -2.55298982  0.6536186 ]\n",
      " [ 0.8644362  -0.74216502  2.26975462]\n",
      " [-1.45436567  0.04575852 -0.18718385]]\n",
      "Second Hidden Layer Biases:\n",
      "[1.53277921 1.46935877 0.15494743]\n",
      "Output Layer Weights:\n",
      "[[ 0.37816252 -0.88778575]\n",
      " [-1.98079647 -0.34791215]\n",
      " [ 0.15634897  1.23029068]]\n",
      "Output Layer Biases:\n",
      "[ 1.20237985 -0.38732682]\n"
     ]
    }
   ],
   "source": [
    "# You can print the initialized weights and biases if desired\n",
    "print(\"First Hidden Layer Weights:\")\n",
    "print(hidden1_weights)\n",
    "print(\"First Hidden Layer Biases:\")\n",
    "print(hidden1_biases)\n",
    "print(\"Second Hidden Layer Weights:\")\n",
    "print(hidden2_weights)\n",
    "print(\"Second Hidden Layer Biases:\")\n",
    "print(hidden2_biases)\n",
    "print(\"Output Layer Weights:\")\n",
    "print(output_weights)\n",
    "print(\"Output Layer Biases:\")\n",
    "print(output_biases)"
   ]
  },
  {
   "cell_type": "code",
   "execution_count": null,
   "id": "c48b1ce1",
   "metadata": {},
   "outputs": [],
   "source": []
  },
  {
   "cell_type": "code",
   "execution_count": null,
   "id": "aacccaa0",
   "metadata": {},
   "outputs": [],
   "source": []
  },
  {
   "cell_type": "code",
   "execution_count": null,
   "id": "4f1dd73f",
   "metadata": {},
   "outputs": [],
   "source": []
  },
  {
   "cell_type": "code",
   "execution_count": null,
   "id": "258d430b",
   "metadata": {},
   "outputs": [],
   "source": []
  },
  {
   "cell_type": "code",
   "execution_count": null,
   "id": "54057719",
   "metadata": {},
   "outputs": [],
   "source": []
  },
  {
   "cell_type": "code",
   "execution_count": null,
   "id": "6e974f9a",
   "metadata": {},
   "outputs": [],
   "source": []
  },
  {
   "cell_type": "code",
   "execution_count": null,
   "id": "37019969",
   "metadata": {},
   "outputs": [],
   "source": []
  },
  {
   "cell_type": "code",
   "execution_count": null,
   "id": "46273799",
   "metadata": {},
   "outputs": [],
   "source": []
  },
  {
   "cell_type": "code",
   "execution_count": null,
   "id": "221e3612",
   "metadata": {},
   "outputs": [],
   "source": []
  },
  {
   "cell_type": "code",
   "execution_count": null,
   "id": "91796138",
   "metadata": {},
   "outputs": [],
   "source": []
  },
  {
   "cell_type": "code",
   "execution_count": null,
   "id": "682d789c",
   "metadata": {},
   "outputs": [],
   "source": []
  },
  {
   "cell_type": "code",
   "execution_count": null,
   "id": "12ea3932",
   "metadata": {},
   "outputs": [],
   "source": []
  },
  {
   "cell_type": "code",
   "execution_count": null,
   "id": "9fc0d389",
   "metadata": {},
   "outputs": [],
   "source": []
  },
  {
   "cell_type": "code",
   "execution_count": null,
   "id": "9e7bc2d4",
   "metadata": {},
   "outputs": [],
   "source": []
  },
  {
   "cell_type": "code",
   "execution_count": null,
   "id": "0fd8988d",
   "metadata": {},
   "outputs": [],
   "source": []
  },
  {
   "cell_type": "code",
   "execution_count": null,
   "id": "68aeef54",
   "metadata": {},
   "outputs": [],
   "source": []
  },
  {
   "cell_type": "code",
   "execution_count": null,
   "id": "56c9f8e4",
   "metadata": {},
   "outputs": [],
   "source": []
  },
  {
   "cell_type": "code",
   "execution_count": null,
   "id": "79ad7192",
   "metadata": {},
   "outputs": [],
   "source": []
  },
  {
   "cell_type": "code",
   "execution_count": null,
   "id": "2744080c",
   "metadata": {},
   "outputs": [],
   "source": []
  },
  {
   "cell_type": "code",
   "execution_count": null,
   "id": "1480e875",
   "metadata": {},
   "outputs": [],
   "source": []
  },
  {
   "cell_type": "code",
   "execution_count": null,
   "id": "3be26f77",
   "metadata": {},
   "outputs": [],
   "source": []
  },
  {
   "cell_type": "code",
   "execution_count": null,
   "id": "7a88564c",
   "metadata": {},
   "outputs": [],
   "source": []
  },
  {
   "cell_type": "code",
   "execution_count": null,
   "id": "c410995d",
   "metadata": {},
   "outputs": [],
   "source": []
  },
  {
   "cell_type": "code",
   "execution_count": null,
   "id": "f3425347",
   "metadata": {},
   "outputs": [],
   "source": []
  },
  {
   "cell_type": "code",
   "execution_count": null,
   "id": "db54de2f",
   "metadata": {},
   "outputs": [],
   "source": []
  },
  {
   "cell_type": "code",
   "execution_count": null,
   "id": "d9be60e7",
   "metadata": {},
   "outputs": [],
   "source": []
  },
  {
   "cell_type": "code",
   "execution_count": null,
   "id": "99b5d3e1",
   "metadata": {},
   "outputs": [],
   "source": []
  },
  {
   "cell_type": "code",
   "execution_count": null,
   "id": "13d469de",
   "metadata": {},
   "outputs": [],
   "source": []
  },
  {
   "cell_type": "code",
   "execution_count": null,
   "id": "362d5f3f",
   "metadata": {},
   "outputs": [],
   "source": []
  },
  {
   "cell_type": "code",
   "execution_count": null,
   "id": "e68bce22",
   "metadata": {},
   "outputs": [],
   "source": []
  },
  {
   "cell_type": "code",
   "execution_count": null,
   "id": "e7298890",
   "metadata": {},
   "outputs": [],
   "source": []
  }
 ],
 "metadata": {
  "kernelspec": {
   "display_name": "Python 3 (ipykernel)",
   "language": "python",
   "name": "python3"
  },
  "language_info": {
   "codemirror_mode": {
    "name": "ipython",
    "version": 3
   },
   "file_extension": ".py",
   "mimetype": "text/x-python",
   "name": "python",
   "nbconvert_exporter": "python",
   "pygments_lexer": "ipython3",
   "version": "3.9.16"
  }
 },
 "nbformat": 4,
 "nbformat_minor": 5
}
